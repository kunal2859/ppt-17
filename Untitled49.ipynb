{
 "cells": [
  {
   "cell_type": "code",
   "execution_count": 2,
   "id": "94221d99",
   "metadata": {},
   "outputs": [
    {
     "name": "stdout",
     "output_type": "stream",
     "text": [
      "9\n",
      "1 2 3 4 5 6 7 8 9\n",
      "List with even numbers:  [2, 4, 6, 8]\n"
     ]
    }
   ],
   "source": [
    "n=int(input())\n",
    "l1=list(map(int,input().split()))[:n]\n",
    "l2=[num for num in l1 if num%2==0]\n",
    "print(\"List with even numbers: \", l2)"
   ]
  },
  {
   "cell_type": "code",
   "execution_count": null,
   "id": "65d9aa57",
   "metadata": {},
   "outputs": [],
   "source": []
  }
 ],
 "metadata": {
  "kernelspec": {
   "display_name": "Python 3 (ipykernel)",
   "language": "python",
   "name": "python3"
  },
  "language_info": {
   "codemirror_mode": {
    "name": "ipython",
    "version": 3
   },
   "file_extension": ".py",
   "mimetype": "text/x-python",
   "name": "python",
   "nbconvert_exporter": "python",
   "pygments_lexer": "ipython3",
   "version": "3.9.13"
  }
 },
 "nbformat": 4,
 "nbformat_minor": 5
}
